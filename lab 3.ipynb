{
 "cells": [
  {
   "cell_type": "markdown",
   "metadata": {},
   "source": [
    "Q1"
   ]
  },
  {
   "cell_type": "code",
   "execution_count": 1,
   "metadata": {},
   "outputs": [
    {
     "name": "stdout",
     "output_type": "stream",
     "text": [
      "Pair found: (8, 2)\n"
     ]
    },
    {
     "data": {
      "text/plain": [
       "True"
      ]
     },
     "execution_count": 1,
     "metadata": {},
     "output_type": "execute_result"
    }
   ],
   "source": [
    "def find_pair_with_sum(nums, target):\n",
    "    # Create an empty set to store seen elements\n",
    "    seen = set()\n",
    "\n",
    "    # Iterate through the array\n",
    "    for num in nums:\n",
    "        # Calculate the complement of the current element with respect to the target\n",
    "        complement = target - num\n",
    "\n",
    "        # If the complement is in the set, we found a pair\n",
    "        if complement in seen:\n",
    "            print(\"Pair found: ({}, {})\".format(complement, num))\n",
    "            return True\n",
    "\n",
    "        # Add the current element to the set\n",
    "        seen.add(num)\n",
    "\n",
    "    # If no pair is found\n",
    "    print(\"No pair found with the given sum.\")\n",
    "    return False\n",
    "\n",
    "nums = [8, 7, 2, 5, 3, 1]\n",
    "target = 10\n",
    "\n",
    "# Call the function\n",
    "find_pair_with_sum(nums, target)"
   ]
  },
  {
   "cell_type": "code",
   "execution_count": null,
   "metadata": {},
   "outputs": [],
   "source": [
    "Q2\n"
   ]
  },
  {
   "cell_type": "code",
   "execution_count": 2,
   "metadata": {},
   "outputs": [
    {
     "name": "stdout",
     "output_type": "stream",
     "text": [
      "Maximum product pair: 72\n"
     ]
    }
   ],
   "source": [
    "def max_product_pair(nums):\n",
    "    if len(nums) < 2:\n",
    "        print(\"Array should contain at least two elements.\")\n",
    "        return None\n",
    "\n",
    "    # Initialize variables to store the maximum and second maximum elements\n",
    "    max1 = max(nums[0], nums[1])\n",
    "    max2 = min(nums[0], nums[1])\n",
    "\n",
    "    # Iterate through the array starting from the third element\n",
    "    for i in range(2, len(nums)):\n",
    "        if nums[i] > max1:\n",
    "            max2 = max1\n",
    "            max1 = nums[i]\n",
    "        elif nums[i] > max2:\n",
    "            max2 = nums[i]\n",
    "\n",
    "    # Calculate and return the maximum product\n",
    "    max_product = max1 * max2\n",
    "    return max_product\n",
    "\n",
    "# Example input\n",
    "arr = [1, 7, 4, 2, 8, 6, 3, 9, 5]\n",
    "\n",
    "# Call the function\n",
    "result = max_product_pair(arr)\n",
    "\n",
    "# Output the result\n",
    "if result is not None:\n",
    "    print(\"Maximum product pair:\", result)\n",
    "     "
   ]
  },
  {
   "cell_type": "markdown",
   "metadata": {},
   "source": [
    "Q3"
   ]
  },
  {
   "cell_type": "code",
   "execution_count": 7,
   "metadata": {},
   "outputs": [
    {
     "name": "stdout",
     "output_type": "stream",
     "text": [
      "[3, 5, 6, 7, 8, 9]\n"
     ]
    }
   ],
   "source": [
    "def fix_two_swapped(arr):\n",
    "  n = len(arr)\n",
    "\n",
    "  for i in range(n - 1):\n",
    "    if arr[i] > arr[i + 1]:\n",
    "      break\n",
    "\n",
    "  for j in range(n - 1, 0, -1):\n",
    "    if arr[j] < arr[j - 1]:\n",
    "      break\n",
    "\n",
    "  if i != j:\n",
    "    arr[i], arr[j] = arr[j], arr[i]\n",
    "\n",
    "  return arr\n",
    "\n",
    "arr = [3, 8, 6, 7, 5, 9]\n",
    "sorted_arr = fix_two_swapped(arr.copy()) \n",
    "print(sorted_arr)"
   ]
  },
  {
   "cell_type": "markdown",
   "metadata": {},
   "source": [
    "Q4"
   ]
  },
  {
   "cell_type": "code",
   "execution_count": 3,
   "metadata": {},
   "outputs": [
    {
     "name": "stdout",
     "output_type": "stream",
     "text": [
      "Output array: [0, 0, 0, 0, 0, 1, 1, 1, 1, 1]\n"
     ]
    }
   ],
   "source": [
    "def segregate_zeros_and_ones(arr):\n",
    "    left = 0\n",
    "    right = len(arr) - 1\n",
    "\n",
    "    while left < right:\n",
    "        # Move the left pointer to the right until it encounters a 1\n",
    "        while arr[left] == 0 and left < right:\n",
    "            left += 1\n",
    "\n",
    "        # Move the right pointer to the left until it encounters a 0\n",
    "        while arr[right] == 1 and left < right:\n",
    "            right -= 1\n",
    "\n",
    "        # Swap the elements at the left and right pointers\n",
    "        arr[left], arr[right] = arr[right], arr[left]\n",
    "\n",
    "        # Move the pointers inward\n",
    "        left += 1\n",
    "        right -= 1\n",
    "\n",
    "    return arr\n",
    "\n",
    "# Example input\n",
    "input_array = [0, 1, 0, 1, 0, 0, 1, 1, 1, 0]\n",
    "\n",
    "# Call the function\n",
    "output_array = segregate_zeros_and_ones(input_array.copy())\n",
    "\n",
    "# Output the result\n",
    "print(\"Output array:\", output_array)"
   ]
  },
  {
   "cell_type": "markdown",
   "metadata": {},
   "source": [
    "Q5"
   ]
  },
  {
   "cell_type": "code",
   "execution_count": 4,
   "metadata": {},
   "outputs": [
    {
     "name": "stdout",
     "output_type": "stream",
     "text": [
      "Total count of inversions: 8\n"
     ]
    }
   ],
   "source": [
    "def merge_sort(arr):\n",
    "    if len(arr) <= 1:\n",
    "        return arr, 0\n",
    "\n",
    "    mid = len(arr) // 2\n",
    "    left_half, left_count = merge_sort(arr[:mid])\n",
    "    right_half, right_count = merge_sort(arr[mid:])\n",
    "\n",
    "    merged_array = []\n",
    "    i = j = inv_count = 0\n",
    "\n",
    "    while i < len(left_half) and j < len(right_half):\n",
    "        if left_half[i] <= right_half[j]:\n",
    "            merged_array.append(left_half[i])\n",
    "            i += 1\n",
    "        else:\n",
    "            merged_array.append(right_half[j])\n",
    "            j += 1\n",
    "            inv_count += len(left_half) - i\n",
    "\n",
    "    merged_array.extend(left_half[i:])\n",
    "    merged_array.extend(right_half[j:])\n",
    "\n",
    "    return merged_array, left_count + right_count + inv_count\n",
    "\n",
    "# Function to calculate inversion count\n",
    "def inversion_count(arr):\n",
    "    _, count = merge_sort(arr)\n",
    "    return count\n",
    "\n",
    "# Example input\n",
    "A = [10, 1, 2, 4, 13, 9, 5]\n",
    "\n",
    "# Calculate inversion count\n",
    "count = inversion_count(A)\n",
    "\n",
    "# Output the result\n",
    "print(\"Total count of inversions:\", count)"
   ]
  },
  {
   "cell_type": "code",
   "execution_count": null,
   "metadata": {},
   "outputs": [],
   "source": [
    "Q6 A"
   ]
  },
  {
   "cell_type": "code",
   "execution_count": 5,
   "metadata": {},
   "outputs": [
    {
     "name": "stdout",
     "output_type": "stream",
     "text": [
      "Yes, there is a pair with sum 10\n"
     ]
    }
   ],
   "source": [
    "def has_pair_with_sum_n2(nums, K):\n",
    "    n = len(nums)\n",
    "    for i in range(n):\n",
    "        for j in range(i+1, n):\n",
    "            if nums[i] + nums[j] == K:\n",
    "                return True\n",
    "    return False\n",
    "\n",
    "# Example input\n",
    "nums = [8, 4, 1, 6]\n",
    "K = 10\n",
    "\n",
    "# Check if there is a pair with sum K\n",
    "result = has_pair_with_sum_n2(nums, K)\n",
    "\n",
    "# Output the result\n",
    "if result:\n",
    "    print(\"Yes, there is a pair with sum\", K)\n",
    "else:\n",
    "    print(\"No, there is no pair with sum\", K)"
   ]
  },
  {
   "cell_type": "markdown",
   "metadata": {},
   "source": [
    "Q6 B"
   ]
  },
  {
   "cell_type": "code",
   "execution_count": 6,
   "metadata": {},
   "outputs": [
    {
     "name": "stdout",
     "output_type": "stream",
     "text": [
      "Yes, there is a pair with sum 10\n"
     ]
    }
   ],
   "source": [
    "def has_pair_with_sum_nlogn(nums, K):\n",
    "    nums.sort()\n",
    "    left = 0\n",
    "    right = len(nums) - 1\n",
    "    while left < right:\n",
    "        curr_sum = nums[left] + nums[right]\n",
    "        if curr_sum == K:\n",
    "            return True\n",
    "        elif curr_sum < K:\n",
    "            left += 1\n",
    "        else:\n",
    "            right -= 1\n",
    "    return False\n",
    "\n",
    "# Example input\n",
    "nums = [8, 4, 1, 6]\n",
    "K = 10\n",
    "\n",
    "# Check if there is a pair with sum K\n",
    "result = has_pair_with_sum_nlogn(nums, K)\n",
    "\n",
    "# Output\n",
    "if result:\n",
    "    print(\"Yes, there is a pair with sum\", K)\n",
    "else:\n",
    "    print(\"No, there is no pair with sum\", K)"
   ]
  }
 ],
 "metadata": {
  "kernelspec": {
   "display_name": "Python 3",
   "language": "python",
   "name": "python3"
  },
  "language_info": {
   "codemirror_mode": {
    "name": "ipython",
    "version": 3
   },
   "file_extension": ".py",
   "mimetype": "text/x-python",
   "name": "python",
   "nbconvert_exporter": "python",
   "pygments_lexer": "ipython3",
   "version": "3.10.undefined"
  }
 },
 "nbformat": 4,
 "nbformat_minor": 2
}
